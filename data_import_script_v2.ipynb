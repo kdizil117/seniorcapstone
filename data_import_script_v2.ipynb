{
 "cells": [
  {
   "cell_type": "markdown",
   "metadata": {},
   "source": [
    "This is a script to import data from folders into a sql database\n",
    "\n",
    "class sql_data_import:\n",
    "    def __init__(self,server,database,folder_path):\n",
    "\n",
    "        self.folder_path = folder_path\n",
    "        self.database = database\n",
    "        self.server = server\n",
    "    \n",
    "    def get_data(self,folder_path):\n",
    "    \n",
    "    1.get file names add to sql query string and add  to text file with folder name somehow\n",
    "    2.get column names save in dictionary or list then add to sql query\n",
    "    \n",
    "    self.filenames = file_names\n",
    "    \n",
    "    self.column names = column_names\n",
    "    \n",
    "    return file_names, column_names\n",
    "    \n",
    "    \n",
    "    def create_sql_table(self)\n",
    "    \n",
    "    1.connect to sql and use self.filenames and self.column names to create tables in a database example under here\n",
    "\n",
    "     for filename in self.filenames:\n",
    "        connect to sql\n",
    "        CREATE TABLE filename\n",
    "\n",
    "\n"
   ]
  },
  {
   "cell_type": "code",
   "execution_count": 2,
   "metadata": {},
   "outputs": [
    {
     "name": "stdout",
     "output_type": "stream",
     "text": [
      "['SQL Server', 'ODBC Driver 17 for SQL Server', 'MySQL ODBC 9.1 ANSI Driver', 'MySQL ODBC 9.1 Unicode Driver', 'SQL Server Native Client 11.0', 'ODBC Driver 18 for SQL Server', 'Microsoft Access Driver (*.mdb, *.accdb)', 'Microsoft Excel Driver (*.xls, *.xlsx, *.xlsm, *.xlsb)', 'Microsoft Access Text Driver (*.txt, *.csv)', 'Microsoft Access dBASE Driver (*.dbf, *.ndx, *.mdx)']\n"
     ]
    }
   ],
   "source": [
    "#import libraries and get drivers\n",
    "import os\n",
    "import pyodbc\n",
    "import pandas as pd\n",
    "print(pyodbc.drivers())"
   ]
  },
  {
   "cell_type": "code",
   "execution_count": null,
   "metadata": {},
   "outputs": [],
   "source": [
    "#check folders for files with non-utf-8 characters\n",
    "import os\n",
    "\n",
    "folder_path = r'\\\\samba.ad.peakpayment.com\\conversion_share\\Conversion_Documents\\3881_ChampionHealth_Winterville\\TestData\\31496ABCEXIT20250620\\Commerce'\n",
    "\n",
    "for file_name in os.listdir(folder_path):\n",
    "    file_path = os.path.join(folder_path, file_name)\n",
    "    try:\n",
    "        with open(file_path, 'r', encoding='utf-8') as file:\n",
    "            file.read()\n",
    "        print(f\"{file_name}: No issues with encoding\")\n",
    "    except UnicodeDecodeError:\n",
    "        print(f\"{file_name}: Contains non-UTF-8 characters\")\n"
   ]
  },
  {
   "cell_type": "code",
   "execution_count": null,
   "metadata": {},
   "outputs": [
    {
     "ename": "PermissionError",
     "evalue": "[Errno 13] Permission denied: '\\\\\\\\samba.ad.peakpayment.com\\\\conversion_share\\\\Conversion_Documents\\\\2100_GetFitPrescott_ABC\\\\TestData\\\\30707ABCEXIT20250527\\\\ISeries_Historical_Data'",
     "output_type": "error",
     "traceback": [
      "\u001b[1;31m---------------------------------------------------------------------------\u001b[0m",
      "\u001b[1;31mPermissionError\u001b[0m                           Traceback (most recent call last)",
      "Cell \u001b[1;32mIn[22], line 3\u001b[0m\n\u001b[0;32m      1\u001b[0m file_path \u001b[38;5;241m=\u001b[39m \u001b[38;5;124mr\u001b[39m\u001b[38;5;124m'\u001b[39m\u001b[38;5;130;01m\\\\\u001b[39;00m\u001b[38;5;124msamba.ad.peakpayment.com\u001b[39m\u001b[38;5;124m\\\u001b[39m\u001b[38;5;124mconversion_share\u001b[39m\u001b[38;5;124m\\\u001b[39m\u001b[38;5;124mConversion_Documents\u001b[39m\u001b[38;5;124m\\\u001b[39m\u001b[38;5;124m2100_GetFitPrescott_ABC\u001b[39m\u001b[38;5;124m\\\u001b[39m\u001b[38;5;124mTestData\u001b[39m\u001b[38;5;124m\\\u001b[39m\u001b[38;5;124m30707ABCEXIT20250527\u001b[39m\u001b[38;5;124m\\\u001b[39m\u001b[38;5;124mISeries_Historical_Data\u001b[39m\u001b[38;5;124m'\u001b[39m\n\u001b[1;32m----> 3\u001b[0m \u001b[38;5;28;01mwith\u001b[39;00m \u001b[38;5;28;43mopen\u001b[39;49m\u001b[43m(\u001b[49m\u001b[43mfile_path\u001b[49m\u001b[43m,\u001b[49m\u001b[43m \u001b[49m\u001b[38;5;124;43m'\u001b[39;49m\u001b[38;5;124;43mr\u001b[39;49m\u001b[38;5;124;43m'\u001b[39;49m\u001b[43m,\u001b[49m\u001b[43m \u001b[49m\u001b[43mencoding\u001b[49m\u001b[38;5;241;43m=\u001b[39;49m\u001b[38;5;124;43m'\u001b[39;49m\u001b[38;5;124;43mutf-8\u001b[39;49m\u001b[38;5;124;43m'\u001b[39;49m\u001b[43m)\u001b[49m \u001b[38;5;28;01mas\u001b[39;00m file:\n\u001b[0;32m      4\u001b[0m     \u001b[38;5;28;01mwhile\u001b[39;00m \u001b[38;5;28;01mTrue\u001b[39;00m:\n\u001b[0;32m      5\u001b[0m         \u001b[38;5;28;01mtry\u001b[39;00m:\n",
      "File \u001b[1;32m~\\AppData\\Local\\Packages\\PythonSoftwareFoundation.Python.3.12_qbz5n2kfra8p0\\LocalCache\\local-packages\\Python312\\site-packages\\IPython\\core\\interactiveshell.py:324\u001b[0m, in \u001b[0;36m_modified_open\u001b[1;34m(file, *args, **kwargs)\u001b[0m\n\u001b[0;32m    317\u001b[0m \u001b[38;5;28;01mif\u001b[39;00m file \u001b[38;5;129;01min\u001b[39;00m {\u001b[38;5;241m0\u001b[39m, \u001b[38;5;241m1\u001b[39m, \u001b[38;5;241m2\u001b[39m}:\n\u001b[0;32m    318\u001b[0m     \u001b[38;5;28;01mraise\u001b[39;00m \u001b[38;5;167;01mValueError\u001b[39;00m(\n\u001b[0;32m    319\u001b[0m         \u001b[38;5;124mf\u001b[39m\u001b[38;5;124m\"\u001b[39m\u001b[38;5;124mIPython won\u001b[39m\u001b[38;5;124m'\u001b[39m\u001b[38;5;124mt let you open fd=\u001b[39m\u001b[38;5;132;01m{\u001b[39;00mfile\u001b[38;5;132;01m}\u001b[39;00m\u001b[38;5;124m by default \u001b[39m\u001b[38;5;124m\"\u001b[39m\n\u001b[0;32m    320\u001b[0m         \u001b[38;5;124m\"\u001b[39m\u001b[38;5;124mas it is likely to crash IPython. If you know what you are doing, \u001b[39m\u001b[38;5;124m\"\u001b[39m\n\u001b[0;32m    321\u001b[0m         \u001b[38;5;124m\"\u001b[39m\u001b[38;5;124myou can use builtins\u001b[39m\u001b[38;5;124m'\u001b[39m\u001b[38;5;124m open.\u001b[39m\u001b[38;5;124m\"\u001b[39m\n\u001b[0;32m    322\u001b[0m     )\n\u001b[1;32m--> 324\u001b[0m \u001b[38;5;28;01mreturn\u001b[39;00m \u001b[43mio_open\u001b[49m\u001b[43m(\u001b[49m\u001b[43mfile\u001b[49m\u001b[43m,\u001b[49m\u001b[43m \u001b[49m\u001b[38;5;241;43m*\u001b[39;49m\u001b[43margs\u001b[49m\u001b[43m,\u001b[49m\u001b[43m \u001b[49m\u001b[38;5;241;43m*\u001b[39;49m\u001b[38;5;241;43m*\u001b[39;49m\u001b[43mkwargs\u001b[49m\u001b[43m)\u001b[49m\n",
      "\u001b[1;31mPermissionError\u001b[0m: [Errno 13] Permission denied: '\\\\\\\\samba.ad.peakpayment.com\\\\conversion_share\\\\Conversion_Documents\\\\2100_GetFitPrescott_ABC\\\\TestData\\\\30707ABCEXIT20250527\\\\ISeries_Historical_Data'"
     ]
    }
   ],
   "source": [
    "#Check each line in a file for non utf-8 characters\n",
    "file_path = r'\\\\samba.ad.peakpayment.com\\conversion_share\\Conversion_Documents\\2100_GetFitPrescott_ABC\\TestData\\30707ABCEXIT20250527\\ISeries_Historical_Data'\n",
    "\n",
    "with open(file_path, 'r', encoding='utf-8') as file:\n",
    "    while True:\n",
    "        try:\n",
    "            for line_number, line in enumerate(file, start=1):\n",
    "                line.encode('utf-8')\n",
    "        except UnicodeEncodeError as e:\n",
    "            print(f\"Non-UTF-8 character in line {line_number}: {line.strip()} - {e}\")\n",
    "            continue\n",
    "        except UnicodeDecodeError as d:\n",
    "            print(f\"Non-UTF-8 character in line {line_number}: {line.strip()} - {d}\")\n",
    "            continue"
   ]
  },
  {
   "cell_type": "code",
   "execution_count": null,
   "metadata": {},
   "outputs": [
    {
     "name": "stderr",
     "output_type": "stream",
     "text": [
      "<string>:60: SyntaxWarning: invalid escape sequence '\\{'\n",
      "<>:60: SyntaxWarning: invalid escape sequence '\\{'\n",
      "<string>:60: SyntaxWarning: invalid escape sequence '\\{'\n",
      "<>:60: SyntaxWarning: invalid escape sequence '\\{'\n",
      "C:\\Users\\kalle\\AppData\\Local\\Temp\\ipykernel_28816\\3119600239.py:60: SyntaxWarning: invalid escape sequence '\\{'\n",
      "  insert_query = f\"\"\"BULK INSERT dbo.[{keys}] FROM '{self.folder_path}\\{keys}{self.d_type}'\\nWITH ( CODEPAGE = '65001', FIELDTERMINATOR = '\",\"', ROWTERMINATOR = '\\\\n', FIRSTROW = 2);\"\"\"\n"
     ]
    },
    {
     "name": "stdout",
     "output_type": "stream",
     "text": [
      "{'Subscription_Analysis': ['Club #', 'Club Name', 'Agreement #', 'Agreement Type', 'Membership Type', 'First Name', 'Last Name', 'Since Date', 'Date of Birth', 'Address', 'City', 'State', 'Zip', 'Email', 'Member #', 'Subscription #', 'Status', 'Next Invoice Date', 'Freeze Start Date', 'Freeze End Date ', 'Expiration Date', 'Profit Center', 'Item Type', 'Frequency', 'Annual Subscription', 'Original Amount', 'Adjustment Amount', 'Tax Amount', 'Total'], 'Available_to_Collect ': ['Club #', 'Club Name', 'Agreement #', 'First Name', 'Last Name', 'Since Date', 'Date of Birth', 'Address', 'City', 'State', 'Zip', 'Email', 'Membership Type', 'Invoice Date', 'Renewal Date', 'Profit Center', 'Item Type', 'Frequency', 'Original Amount', 'Adjustment Amount', 'Sub Total', 'Estimated Tax Amount', 'Total'], 'All_Members_Detail': ['Club #', 'Location', 'Member #', 'Agreement #', 'Last Name', 'First Name', 'Address', 'City', 'State', 'Zip', 'Primary Phone #', 'Work Phone #', 'Cell Phone #', 'Email Address', 'Date of Birth', 'Gender', 'Wellness ID', 'Type', 'Payment Mode', 'Frequency', 'Membership Type', 'Membership Type Description', 'Payment Plan', 'Alternate Payment Method', 'Barcode', 'Campaign', 'Renewal Date', 'Expiration Date', 'Since Date', 'Begin Date', 'Next Due Date', 'Invoice Amount', 'Current Due', 'Past Due 0-30', 'Past Due 31-60', 'Past Due 61-90', 'Past Due 91 Up', 'Down Payment', 'Status', 'Status Date', 'Member Active/Inactive', 'Unnamed: 41', 'Unnamed: 42', 'Unnamed: 43', 'Unnamed: 44', 'Unnamed: 45']}\n",
      "CREATE TABLE [Subscription_Analysis] ([Club #] nvarchar(max), [Club Name] nvarchar(max), [Agreement #] nvarchar(max), [Agreement Type] nvarchar(max), [Membership Type] nvarchar(max), [First Name] nvarchar(max), [Last Name] nvarchar(max), [Since Date] nvarchar(max), [Date of Birth] nvarchar(max), [Address] nvarchar(max), [City] nvarchar(max), [State] nvarchar(max), [Zip] nvarchar(max), [Email] nvarchar(max), [Member #] nvarchar(max), [Subscription #] nvarchar(max), [Status] nvarchar(max), [Next Invoice Date] nvarchar(max), [Freeze Start Date] nvarchar(max), [Freeze End Date ] nvarchar(max), [Expiration Date] nvarchar(max), [Profit Center] nvarchar(max), [Item Type] nvarchar(max), [Frequency] nvarchar(max), [Annual Subscription] nvarchar(max), [Original Amount] nvarchar(max), [Adjustment Amount] nvarchar(max), [Tax Amount] nvarchar(max), [Total] nvarchar(max));\n",
      "\n",
      "CREATE TABLE [Available_to_Collect ] ([Club #] nvarchar(max), [Club Name] nvarchar(max), [Agreement #] nvarchar(max), [First Name] nvarchar(max), [Last Name] nvarchar(max), [Since Date] nvarchar(max), [Date of Birth] nvarchar(max), [Address] nvarchar(max), [City] nvarchar(max), [State] nvarchar(max), [Zip] nvarchar(max), [Email] nvarchar(max), [Membership Type] nvarchar(max), [Invoice Date] nvarchar(max), [Renewal Date] nvarchar(max), [Profit Center] nvarchar(max), [Item Type] nvarchar(max), [Frequency] nvarchar(max), [Original Amount] nvarchar(max), [Adjustment Amount] nvarchar(max), [Sub Total] nvarchar(max), [Estimated Tax Amount] nvarchar(max), [Total] nvarchar(max));\n",
      "\n",
      "CREATE TABLE [All_Members_Detail] ([Club #] nvarchar(max), [Location] nvarchar(max), [Member #] nvarchar(max), [Agreement #] nvarchar(max), [Last Name] nvarchar(max), [First Name] nvarchar(max), [Address] nvarchar(max), [City] nvarchar(max), [State] nvarchar(max), [Zip] nvarchar(max), [Primary Phone #] nvarchar(max), [Work Phone #] nvarchar(max), [Cell Phone #] nvarchar(max), [Email Address] nvarchar(max), [Date of Birth] nvarchar(max), [Gender] nvarchar(max), [Wellness ID] nvarchar(max), [Type] nvarchar(max), [Payment Mode] nvarchar(max), [Frequency] nvarchar(max), [Membership Type] nvarchar(max), [Membership Type Description] nvarchar(max), [Payment Plan] nvarchar(max), [Alternate Payment Method] nvarchar(max), [Barcode] nvarchar(max), [Campaign] nvarchar(max), [Renewal Date] nvarchar(max), [Expiration Date] nvarchar(max), [Since Date] nvarchar(max), [Begin Date] nvarchar(max), [Next Due Date] nvarchar(max), [Invoice Amount] nvarchar(max), [Current Due] nvarchar(max), [Past Due 0-30] nvarchar(max), [Past Due 31-60] nvarchar(max), [Past Due 61-90] nvarchar(max), [Past Due 91 Up] nvarchar(max), [Down Payment] nvarchar(max), [Status] nvarchar(max), [Status Date] nvarchar(max), [Member Active/Inactive] nvarchar(max), [Unnamed: 41] nvarchar(max), [Unnamed: 42] nvarchar(max), [Unnamed: 43] nvarchar(max), [Unnamed: 44] nvarchar(max), [Unnamed: 45] nvarchar(max));\n",
      "\n"
     ]
    },
    {
     "ename": "",
     "evalue": "",
     "output_type": "error",
     "traceback": [
      "\u001b[1;31mThe Kernel crashed while executing code in the current cell or a previous cell. \n",
      "\u001b[1;31mPlease review the code in the cell(s) to identify a possible cause of the failure. \n",
      "\u001b[1;31mClick <a href='https://aka.ms/vscodeJupyterKernelCrash'>here</a> for more info. \n",
      "\u001b[1;31mView Jupyter <a href='command:jupyter.viewOutput'>log</a> for further details."
     ]
    }
   ],
   "source": [
    "\n",
    "#get the file names and column names and connect to database\n",
    "\n",
    "class sql_data_import:\n",
    "    def __init__(self,cnxn_str,folder_path):\n",
    "        os.chdir(folder_path)\n",
    "        self.folder_path = folder_path\n",
    "        self.cnxn_str = cnxn_str\n",
    "    #adds a blank line in case imports are missing rows\n",
    "    def add_newline_to_files(self):\n",
    "        \n",
    "        for filename in os.listdir(self.folder_path):\n",
    "            filepath = os.path.join(self.folder_path, filename)\n",
    "            if os.path.isfile(filepath):\n",
    "                with open(filepath, 'a') as file:\n",
    "                    file.write('\\n')\n",
    "           \n",
    "    \n",
    "    #takes names of files and columns in those files and puts them in a dictionary \n",
    "    def get_names(self):\n",
    "        folder_path =  self.folder_path \n",
    "        delimited_files = {}\n",
    "        d_type = ''\n",
    "        for file in os.listdir(folder_path): \n",
    "            if file.endswith(\".csv\"):\n",
    "                d_type = '.csv'\n",
    "                df = pd.read_csv(file)\n",
    "                file = file.replace('.csv','')\n",
    "                delimited_files[file]= []\n",
    "                for values in df.columns:\n",
    "                    delimited_files[file].append(values)\n",
    "                    self.delimited_files = delimited_files\n",
    "            self.d_type = d_type\n",
    "            if file.endswith(\".txt\"):\n",
    "                d_type = '.txt'\n",
    "                df = pd.read_csv(file,sep =',',quotechar='\"')\n",
    "                file = file.replace('.txt','')\n",
    "                delimited_files[file]= []\n",
    "                for values in df.columns:\n",
    "                    delimited_files[file].append(values)\n",
    "                    self.delimited_files = delimited_files\n",
    "            self.d_type = d_type\n",
    "\n",
    "        return delimited_files\n",
    "    #creates text file that shows queries ran and can be passed to sqlconnect to be run in sql\n",
    "    def create_table_query(self):\n",
    "        file_path = 'query_file_test.txt'\n",
    "        query_file = open(file_path,'w') \n",
    "        for keys, values in self.delimited_files.items():#!!!<---Needs functionality where tables of different clubs but the same data in same migration are uploaded to one table\n",
    "            querystring = f'CREATE TABLE [{keys}] ('\n",
    "            querystring += ', '.join(f'[{col}] nvarchar(max)' for col in values)\n",
    "            querystring += ');'\n",
    "            querystring += '\\n'\n",
    "             #next thing to do is to write this to a text file\n",
    "            query_file.write(querystring)\n",
    "            print(querystring)#<---test to see output\n",
    "            self.query_file = query_file\n",
    "            self.file_path = file_path\n",
    "        #adds bulk insert statement to text file \n",
    "        for keys in self.delimited_files.keys():\n",
    "            insert_query = f\"\"\"BULK INSERT dbo.[{keys}] FROM '{self.folder_path}\\{keys}{self.d_type}'\\nWITH ( CODEPAGE = '65001', FIELDTERMINATOR = '\",\"', ROWTERMINATOR = '\\\\n', FIRSTROW = 2);\"\"\"\n",
    "            insert_query += '\\n'\n",
    "            self.query_file.write(insert_query)\n",
    "        query_file.close()\n",
    "\n",
    "import_test = sql_data_import(\n",
    "\"Driver={ODBC Driver 18 for SQL Server};\"\n",
    "\"Server=KallesPC;\"\n",
    "\"Database=test_import;\"\n",
    "\"Encrypt=no;\"\n",
    "\"Trusted_Connection=yes;\",r\"\\\\samba.ad.peakpayment.com\\conversion_share\\Conversion_Documents\\3881_ChampionHealth_Winterville\\ABC Reports\")\n",
    "print(import_test.get_names())\n",
    "#import_test.get_server_database()\n",
    "import_test.create_table_query()\n",
    "#import_test.add_insert()\n"
   ]
  }
 ],
 "metadata": {
  "kernelspec": {
   "display_name": "Python 3",
   "language": "python",
   "name": "python3"
  },
  "language_info": {
   "codemirror_mode": {
    "name": "ipython",
    "version": 3
   },
   "file_extension": ".py",
   "mimetype": "text/x-python",
   "name": "python",
   "nbconvert_exporter": "python",
   "pygments_lexer": "ipython3",
   "version": "3.12.10"
  }
 },
 "nbformat": 4,
 "nbformat_minor": 2
}
